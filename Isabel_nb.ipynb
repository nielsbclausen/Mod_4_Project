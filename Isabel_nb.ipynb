{
 "cells": [
  {
   "cell_type": "markdown",
   "metadata": {},
   "source": [
    "# <B>MOD 4 PROJECT"
   ]
  },
  {
   "cell_type": "markdown",
   "metadata": {},
   "source": [
    "<b>main factors in life satisfaction:</b>\n",
    "   <br>health status\n",
    "   <br>mental health\n",
    "   <br>income\n",
    "   <br>employment status"
   ]
  },
  {
   "cell_type": "markdown",
   "metadata": {},
   "source": [
    "# <b>DATA CLEANING"
   ]
  },
  {
   "cell_type": "markdown",
   "metadata": {},
   "source": [
    "<B>IMPORTING DATA:"
   ]
  },
  {
   "cell_type": "code",
   "execution_count": null,
   "metadata": {},
   "outputs": [],
   "source": [
    "#importing necessary packages\n",
    "import numpy as np\n",
    "from scipy import stats \n",
    "import math\n",
    "import statsmodels.api as sm \n",
    "import pylab as py\n",
    "import sqlite3\n",
    "import seaborn as sns\n",
    "import matplotlib.pyplot as plt\n",
    "%matplotlib inline\n",
    "\n",
    "\n",
    "from itertools import combinations, product\n",
    "from sklearn.model_selection import KFold,cross_val_predict,cross_val_score, cross_validate\n",
    "from sklearn.linear_model import LinearRegression,RidgeCV, LassoCV\n",
    "from sklearn.preprocessing import StandardScaler\n",
    "from sklearn.model_selection import train_test_split\n",
    "from sklearn.metrics import r2_score\n",
    "import statsmodels.api as sm\n",
    "from statsmodels.formula.api import ols"
   ]
  },
  {
   "cell_type": "markdown",
   "metadata": {},
   "source": [
    "<B>LOOKING THROUGH THE DATASET:"
   ]
  },
  {
   "cell_type": "code",
   "execution_count": null,
   "metadata": {},
   "outputs": [],
   "source": [
    "#importing pandas and the csv files\n",
    "import pandas as pd\n",
    "df = pd.read_csv('analytic_data2019.csv')\n",
    "df.head()"
   ]
  },
  {
   "cell_type": "code",
   "execution_count": null,
   "metadata": {},
   "outputs": [],
   "source": [
    "#checking shape\n",
    "df.shape"
   ]
  },
  {
   "cell_type": "code",
   "execution_count": null,
   "metadata": {},
   "outputs": [],
   "source": [
    "#display list of column values\n",
    "list(df.columns.values)"
   ]
  },
  {
   "cell_type": "code",
   "execution_count": null,
   "metadata": {},
   "outputs": [],
   "source": [
    "#checking for nan values\n",
    "df.isna().sum()"
   ]
  },
  {
   "cell_type": "code",
   "execution_count": null,
   "metadata": {},
   "outputs": [],
   "source": [
    "#checking for null values\n",
    "df.isnull().sum()"
   ]
  },
  {
   "cell_type": "code",
   "execution_count": null,
   "metadata": {},
   "outputs": [],
   "source": [
    "#renaming columns by placing an underscore between words to make it more usable\n",
    "columns_name = df.columns\n",
    "new_column_names = []\n",
    "for column_name in columns_name:\n",
    "    new_column_names.append(column_name.replace(\" \", \"_\"))\n",
    "print(new_column_names[:10])\n",
    "df.columns = new_column_names"
   ]
  },
  {
   "cell_type": "code",
   "execution_count": null,
   "metadata": {},
   "outputs": [],
   "source": [
    "df = df.iloc[2:]"
   ]
  },
  {
   "cell_type": "code",
   "execution_count": null,
   "metadata": {},
   "outputs": [],
   "source": [
    "df = df.loc[((df['County_FIPS_Code']!='000') & (df['County_FIPS_Code']!=0))]"
   ]
  },
  {
   "cell_type": "code",
   "execution_count": null,
   "metadata": {},
   "outputs": [],
   "source": [
    "df.head()"
   ]
  },
  {
   "cell_type": "code",
   "execution_count": null,
   "metadata": {},
   "outputs": [],
   "source": [
    "xls = pd.ExcelFile(\"2019 County Health Rankings Data - v2.xls\")\n",
    "health_rankings = xls.parse(index_col=None, na_values=['NA'])\n",
    "df.to_csv('file.csv')\n",
    "health_rankings.head()"
   ]
  },
  {
   "cell_type": "code",
   "execution_count": null,
   "metadata": {},
   "outputs": [],
   "source": [
    "xls = pd.ExcelFile('2019 County Health Rankings Data - v2.xls')\n",
    "sheet0 = xls.parse(0,skiprows=1) \n",
    "sheet1 = xls.parse(1,skiprows=1) \n",
    "sheet2 = xls.parse(2,skiprows=1) \n",
    "sheet3 = xls.parse(3,skiprows=1) \n",
    "sheet4 = xls.parse(4,skiprows=1) \n",
    "sheet5 = xls.parse(5,skiprows=1) \n",
    "sheet6 = xls.parse(6,skiprows=1)"
   ]
  },
  {
   "cell_type": "code",
   "execution_count": null,
   "metadata": {},
   "outputs": [],
   "source": [
    "sheet4"
   ]
  },
  {
   "cell_type": "code",
   "execution_count": null,
   "metadata": {},
   "outputs": [],
   "source": [
    "sheet3.set_index('FIPS', inplace=True)\n",
    "sheet5.set_index('FIPS', inplace=True)"
   ]
  },
  {
   "cell_type": "code",
   "execution_count": null,
   "metadata": {},
   "outputs": [],
   "source": [
    "#combined = pd.concat([df, sheet5, sheet3], axis=1, sort=False, join='inner')\n",
    "\n",
    "combined = pd.concat([df], axis=1, sort=False, join='inner')\n",
    "combined.shape"
   ]
  },
  {
   "cell_type": "code",
   "execution_count": null,
   "metadata": {},
   "outputs": [],
   "source": [
    "df = combined.copy()"
   ]
  },
  {
   "cell_type": "code",
   "execution_count": null,
   "metadata": {},
   "outputs": [],
   "source": [
    "clean_columns = [x for x in df.columns if\n",
    "                 (\"numerator\" not in x) and\n",
    "                 (\"denominator\" not in x) and\n",
    "                 (\"CI_low\" not in x) and\n",
    "                 (\"CI_high\" not in x)]"
   ]
  },
  {
   "cell_type": "code",
   "execution_count": null,
   "metadata": {},
   "outputs": [],
   "source": [
    "df = combined[clean_columns]\n",
    "df.head()"
   ]
  },
  {
   "cell_type": "code",
   "execution_count": null,
   "metadata": {},
   "outputs": [],
   "source": [
    "#checking the data types for each column\n",
    "for col in df.columns:\n",
    "    print(df[col].dtypes, col)"
   ]
  },
  {
   "cell_type": "code",
   "execution_count": null,
   "metadata": {},
   "outputs": [],
   "source": [
    "df1=df[['State_FIPS_Code','County_FIPS_Code','5-digit_FIPS_Code','State_Abbreviation','Name','Release_Year','County_Ranked_(Yes=1/No=0)']]"
   ]
  },
  {
   "cell_type": "code",
   "execution_count": null,
   "metadata": {},
   "outputs": [],
   "source": [
    "df2 = df.iloc[:,7:].astype(float)"
   ]
  },
  {
   "cell_type": "code",
   "execution_count": null,
   "metadata": {},
   "outputs": [],
   "source": [
    "dfClean = df1.merge(df2, left_index=True,right_index=True)\n",
    "dfClean.head()"
   ]
  },
  {
   "cell_type": "code",
   "execution_count": null,
   "metadata": {},
   "outputs": [],
   "source": [
    "#checking the data types for each column\n",
    "for col in df.columns:\n",
    "    print(dfClean[col].dtypes, col)"
   ]
  },
  {
   "cell_type": "markdown",
   "metadata": {},
   "source": [
    "# <b>EXPLORATORY DATA ANALYSIS"
   ]
  },
  {
   "cell_type": "markdown",
   "metadata": {},
   "source": [
    "# <B>Mental health:"
   ]
  },
  {
   "cell_type": "code",
   "execution_count": null,
   "metadata": {},
   "outputs": [],
   "source": [
    "dfMH=df[['State_Abbreviation','Name','Poor_mental_health_days_raw_value']]\n",
    "dfMH.head()"
   ]
  },
  {
   "cell_type": "code",
   "execution_count": null,
   "metadata": {},
   "outputs": [],
   "source": [
    "for col in dfMH.columns:\n",
    "    print(dfMH[col].dtypes, col)"
   ]
  },
  {
   "cell_type": "code",
   "execution_count": null,
   "metadata": {},
   "outputs": [],
   "source": [
    "#changing the type of mental health days raw value from an object to a float\n",
    "dfMH['Poor_mental_health_days_raw_value']=dfMH['Poor_mental_health_days_raw_value'].astype('float')"
   ]
  },
  {
   "cell_type": "code",
   "execution_count": null,
   "metadata": {},
   "outputs": [],
   "source": [
    "dfMH.groupby(['State_Abbreviation'])['Poor_mental_health_days_raw_value'].mean()"
   ]
  },
  {
   "cell_type": "code",
   "execution_count": null,
   "metadata": {},
   "outputs": [],
   "source": [
    "#Poor mental health days based on state graph\n",
    "fig,ax = plt.subplots(1,1,figsize=(10,4))\n",
    "\n",
    "cnt = dfMH.groupby(['State_Abbreviation'])['Poor_mental_health_days_raw_value'].mean().sort_values(ascending=False).to_frame()\n",
    "sns.barplot(y = cnt['Poor_mental_health_days_raw_value'], x = cnt.index, palette= 'inferno')\n",
    "ax.set_title('Poor mental health days based on State')\n",
    "ax.set_ylabel('mental health days')\n",
    "plt.xticks(rotation= 'vertical') \n",
    "ax.set_xlabel('State')\n"
   ]
  },
  {
   "cell_type": "code",
   "execution_count": null,
   "metadata": {},
   "outputs": [],
   "source": [
    "sm.qqplot(dfMH['Poor_mental_health_days_raw_value'])"
   ]
  },
  {
   "cell_type": "code",
   "execution_count": null,
   "metadata": {},
   "outputs": [],
   "source": [
    "sns.distplot(dfMH['% Unemployed'])"
   ]
  },
  {
   "cell_type": "markdown",
   "metadata": {},
   "source": [
    "# <b>Physical health:"
   ]
  },
  {
   "cell_type": "code",
   "execution_count": null,
   "metadata": {},
   "outputs": [],
   "source": [
    "dfFH=df[['State_Abbreviation','Name','Poor_physical_health_days_raw_value']]\n",
    "dfFH.head()"
   ]
  },
  {
   "cell_type": "code",
   "execution_count": null,
   "metadata": {},
   "outputs": [],
   "source": [
    "#changing the type of physical health days raw value from an object to a float\n",
    "dfFH['Poor_physical_health_days_raw_value']=dfFH['Poor_physical_health_days_raw_value'].astype('float')"
   ]
  },
  {
   "cell_type": "code",
   "execution_count": null,
   "metadata": {},
   "outputs": [],
   "source": [
    "#Poor mental health days based on state graph\n",
    "fig,ax = plt.subplots(1,1,figsize=(10,4))\n",
    "\n",
    "cnt = dfFH.groupby(['State_Abbreviation'])['Poor_physical_health_days_raw_value'].mean().sort_values(ascending=False).to_frame()\n",
    "sns.barplot(y = cnt['Poor_physical_health_days_raw_value'], x = cnt.index, palette= 'inferno')\n",
    "ax.set_title('Poor physical health days based on State')\n",
    "ax.set_ylabel('physical health days')\n",
    "plt.xticks(rotation= 'vertical') \n",
    "ax.set_xlabel('State')"
   ]
  },
  {
   "cell_type": "markdown",
   "metadata": {},
   "source": [
    "# <b>Income:"
   ]
  },
  {
   "cell_type": "code",
   "execution_count": null,
   "metadata": {},
   "outputs": [],
   "source": [
    "df.head()"
   ]
  },
  {
   "cell_type": "code",
   "execution_count": null,
   "metadata": {},
   "outputs": [],
   "source": [
    "dfI=df[['State_Abbreviation','Median_household_income_raw_value']]"
   ]
  },
  {
   "cell_type": "code",
   "execution_count": null,
   "metadata": {},
   "outputs": [],
   "source": [
    "dfI['Median_household_income_raw_value']=dfI['Median_household_income_raw_value'].astype('float')"
   ]
  },
  {
   "cell_type": "code",
   "execution_count": null,
   "metadata": {},
   "outputs": [],
   "source": [
    "#Poor mental health days based on state graph\n",
    "fig,ax = plt.subplots(1,1,figsize=(10,4))\n",
    "\n",
    "cnt = dfI.groupby(['State_Abbreviation'])['Median_household_income_raw_value'].mean().sort_values(ascending=False).to_frame()\n",
    "sns.barplot(y = cnt['Median_household_income_raw_value'], x = cnt.index, palette= 'ocean')\n",
    "ax.set_title('Median household income by State')\n",
    "ax.set_ylabel('Median household income')\n",
    "plt.xticks(rotation= 'vertical') \n",
    "ax.set_xlabel('State')"
   ]
  },
  {
   "cell_type": "code",
   "execution_count": null,
   "metadata": {},
   "outputs": [],
   "source": [
    "sm.qqplot(dfI['Median_household_income_raw_value'])"
   ]
  },
  {
   "cell_type": "markdown",
   "metadata": {},
   "source": [
    "# <b>Employment status:"
   ]
  },
  {
   "cell_type": "code",
   "execution_count": null,
   "metadata": {},
   "outputs": [],
   "source": [
    "dfNew=df[['State_Abbreviation','Name','Unemployment_raw_value']]"
   ]
  },
  {
   "cell_type": "code",
   "execution_count": null,
   "metadata": {},
   "outputs": [],
   "source": [
    "dfNew.head()"
   ]
  },
  {
   "cell_type": "code",
   "execution_count": null,
   "metadata": {},
   "outputs": [],
   "source": [
    "dfNew['Unemployment_raw_value']=dfNew['Unemployment_raw_value'].astype(float)"
   ]
  },
  {
   "cell_type": "code",
   "execution_count": null,
   "metadata": {},
   "outputs": [],
   "source": [
    "#Poor mental health days based on state graph\n",
    "fig,ax = plt.subplots(1,1,figsize=(10,4))\n",
    "\n",
    "cnt = dfNew.groupby(['State_Abbreviation'])['Unemployment_raw_value'].mean().sort_values(ascending=False).to_frame()\n",
    "sns.barplot(y = cnt['Unemployment_raw_value'], x = cnt.index, palette= 'rainbow_r')\n",
    "ax.set_title('Unemployment by State')\n",
    "ax.set_ylabel('Percentage of Unemployed')\n",
    "plt.xticks(rotation= 'vertical') \n",
    "ax.set_xlabel('State')"
   ]
  },
  {
   "cell_type": "code",
   "execution_count": null,
   "metadata": {},
   "outputs": [],
   "source": [
    "sm.qqplot(combine['% Unemployed'])"
   ]
  },
  {
   "cell_type": "code",
   "execution_count": null,
   "metadata": {},
   "outputs": [],
   "source": [
    "sns.distplot(combine['% Unemployed'])"
   ]
  },
  {
   "cell_type": "code",
   "execution_count": null,
   "metadata": {},
   "outputs": [],
   "source": [
    "df.head()"
   ]
  },
  {
   "cell_type": "code",
   "execution_count": null,
   "metadata": {},
   "outputs": [],
   "source": []
  },
  {
   "cell_type": "code",
   "execution_count": null,
   "metadata": {},
   "outputs": [],
   "source": [
    "dfClean.shape"
   ]
  },
  {
   "cell_type": "code",
   "execution_count": null,
   "metadata": {},
   "outputs": [],
   "source": [
    "dfClean2=dfClean.iloc[:,40:]"
   ]
  },
  {
   "cell_type": "code",
   "execution_count": null,
   "metadata": {},
   "outputs": [],
   "source": [
    "sns.heatmap(dfClean2.corr(),annot =True)"
   ]
  },
  {
   "cell_type": "code",
   "execution_count": null,
   "metadata": {},
   "outputs": [],
   "source": []
  },
  {
   "cell_type": "code",
   "execution_count": null,
   "metadata": {},
   "outputs": [],
   "source": [
    "msk = np.random.rand(len(dfClean)) < 0.8\n",
    "\n",
    "train = dfClean[msk]\n",
    "test = dfClean[~msk]\n",
    "\n",
    "y_train = train['Life_Expectancy']\n",
    "\n",
    "X_train = train.drop(['Life_Expectancy'],axis=1)\n",
    "X_train = X_train.select_dtypes(exclude=['object'])\n",
    "\n",
    "\n",
    "#X_train, x_test, y_train, y_test = train_test_split(X,y)"
   ]
  },
  {
   "cell_type": "code",
   "execution_count": null,
   "metadata": {},
   "outputs": [],
   "source": [
    "cros_val = KFold(n_splits=10, random_state=1, shuffle=True)\n",
    "scaler = MinMaxScaler()\n",
    "\n",
    "Xs = scaler.fit_transform(X_train)\n",
    "\n",
    "#X_train, X_test, y_train, y_test = train_test_split(X,y)\n",
    "\n",
    "linreg = LinearRegression()\n",
    "baseline = np.mean(cross_val_score(linreg,Xs,y_train,scoring='r2',cv=cros_val))\n",
    "baseline"
   ]
  },
  {
   "cell_type": "code",
   "execution_count": null,
   "metadata": {},
   "outputs": [],
   "source": [
    "md = train.copy()\n",
    "md =md.drop(['Mentally_Unhealthy_Days','Diabetic','Years_of_Potential_Life_Lost_Rate',\n",
    "             'Excessive_Drinking', 'Some_College','Children_in_Poverty','Household_Income'],axis=1)"
   ]
  }
 ],
 "metadata": {
  "kernelspec": {
   "display_name": "Python 3",
   "language": "python",
   "name": "python3"
  },
  "language_info": {
   "codemirror_mode": {
    "name": "ipython",
    "version": 3
   },
   "file_extension": ".py",
   "mimetype": "text/x-python",
   "name": "python",
   "nbconvert_exporter": "python",
   "pygments_lexer": "ipython3",
   "version": "3.7.4"
  }
 },
 "nbformat": 4,
 "nbformat_minor": 4
}
